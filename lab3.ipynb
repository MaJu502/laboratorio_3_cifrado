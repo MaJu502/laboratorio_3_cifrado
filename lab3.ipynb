{
 "cells": [
  {
   "cell_type": "markdown",
   "metadata": {},
   "source": [
    "# Laboratorio no. 3 Cifrado de Información\n",
    "Marco Jurado 20308"
   ]
  },
  {
   "cell_type": "code",
   "execution_count": 2,
   "metadata": {},
   "outputs": [],
   "source": [
    "from Crypto.Cipher import DES, DES3, AES\n",
    "from Crypto.Random import get_random_bytes\n",
    "from Crypto.Util.Padding import pad, unpad\n",
    "from PIL import Image\n",
    "import numpy as np\n",
    "import math"
   ]
  },
  {
   "cell_type": "markdown",
   "metadata": {},
   "source": [
    "## Problema 1"
   ]
  },
  {
   "cell_type": "markdown",
   "metadata": {},
   "source": [
    "AES con CBC"
   ]
  },
  {
   "cell_type": "code",
   "execution_count": 3,
   "metadata": {},
   "outputs": [],
   "source": [
    "def aes_cbc_encrypt(x, y):\n",
    "    cipher = AES.new(y, AES.MODE_CBC)\n",
    "    ct_bytes = cipher.encrypt(pad(x, AES.block_size))\n",
    "    iv = cipher.iv\n",
    "    return iv, ct_bytes\n",
    "\n",
    "def aes_cbc_decrypt(iv, ct_bytes, y):\n",
    "    cipher = AES.new(y, AES.MODE_CBC, iv)\n",
    "    pt = unpad(cipher.decrypt(ct_bytes), AES.block_size)\n",
    "    return pt"
   ]
  },
  {
   "cell_type": "markdown",
   "metadata": {},
   "source": [
    "AES con ECB"
   ]
  },
  {
   "cell_type": "code",
   "execution_count": 4,
   "metadata": {},
   "outputs": [],
   "source": [
    "def aes_ecb_encrypt(x, y):\n",
    "    cipher = AES.new(y, AES.MODE_ECB)\n",
    "    ct_bytes = cipher.encrypt(pad(x, AES.block_size))\n",
    "    return ct_bytes\n",
    "\n",
    "def aes_ecb_decrypt(ct_bytes, y):\n",
    "    cipher = AES.new(y, AES.MODE_ECB)\n",
    "    pt = unpad(cipher.decrypt(ct_bytes), AES.block_size)\n",
    "    return pt"
   ]
  },
  {
   "cell_type": "markdown",
   "metadata": {},
   "source": [
    "Pipeline para cifrado y descifrado AES con ECB y CBC"
   ]
  },
  {
   "cell_type": "code",
   "execution_count": null,
   "metadata": {},
   "outputs": [],
   "source": [
    "def encrypt_image(x, y, modo_cifrado=AES.MODE_CBC):\n",
    "    img = Image.open(x).convert(\"RGB\")\n",
    "    bytes_de_la_imagen = img.tobytes()\n",
    "    ancho, alto = img.size\n",
    "\n",
    "    if modo_cifrado == AES.MODE_CBC:\n",
    "        iv = get_random_bytes(AES.block_size)\n",
    "        cipher = AES.new(y, modo_cifrado, iv)\n",
    "    else:\n",
    "        cipher = AES.new(y, modo_cifrado)\n",
    "        iv = None\n",
    "\n",
    "    datos_encriptados = cipher.encrypt(pad(bytes_de_la_imagen, AES.block_size))\n",
    "\n",
    "    tempLargo = len(datos_encriptados)\n",
    "    new_alto = math.ceil(tempLargo / (3 * ancho))\n",
    "    if new_alto * ancho * 3 > tempLargo:\n",
    "        datos_encriptados += b'\\x00' * (new_alto * ancho * 3 - tempLargo)\n",
    "\n",
    "    return Image.fromarray(np.frombuffer(datos_encriptados, dtype=np.uint8).reshape((new_alto, ancho, 3)), 'RGB')\n",
    "\n",
    "def decrypt_image(x, y, modo_cifrado, tamano, iv=None):\n",
    "    if modo_cifrado == AES.MODE_CBC and iv is not None:\n",
    "        cipher = AES.new(y, modo_cifrado, iv)\n",
    "    else:\n",
    "        cipher = AES.new(y, modo_cifrado)\n",
    "\n",
    "    return Image.frombytes(\"RGB\", tamano, unpad(cipher.decrypt(x), AES.block_size))\n",
    "\n",
    "def encrypt_image_data(image_path, key, mode=AES.MODE_CBC):\n",
    "    img = Image.open(image_path).convert(\"RGB\")\n",
    "    bytes_de_la_imagen = img.tobytes()\n",
    "\n",
    "    if mode == AES.MODE_CBC:\n",
    "        iv = get_random_bytes(AES.block_size)\n",
    "        cipher = AES.new(key, mode, iv)\n",
    "    else:\n",
    "        cipher = AES.new(key, mode)\n",
    "        iv = None\n",
    "\n",
    "    datos_encriptados = cipher.encrypt(pad(bytes_de_la_imagen, AES.block_size))\n",
    "\n",
    "    return datos_encriptados, iv, img.size"
   ]
  },
  {
   "cell_type": "markdown",
   "metadata": {},
   "source": [
    "Descifrando ambas imagenes con ECB"
   ]
  },
  {
   "cell_type": "code",
   "execution_count": null,
   "metadata": {},
   "outputs": [],
   "source": []
  },
  {
   "cell_type": "markdown",
   "metadata": {},
   "source": [
    "Descifrando ambas imagenes con CBC"
   ]
  }
 ],
 "metadata": {
  "kernelspec": {
   "display_name": "Python 3",
   "language": "python",
   "name": "python3"
  },
  "language_info": {
   "codemirror_mode": {
    "name": "ipython",
    "version": 3
   },
   "file_extension": ".py",
   "mimetype": "text/x-python",
   "name": "python",
   "nbconvert_exporter": "python",
   "pygments_lexer": "ipython3",
   "version": "3.10.5"
  }
 },
 "nbformat": 4,
 "nbformat_minor": 2
}
