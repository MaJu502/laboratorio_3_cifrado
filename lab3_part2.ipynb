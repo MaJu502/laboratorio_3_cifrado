{
 "cells": [
  {
   "cell_type": "markdown",
   "metadata": {},
   "source": [
    "# Laboratorio no. 3 Cifrado de Información - parte 2\n",
    "Marco Jurado 20308"
   ]
  },
  {
   "cell_type": "code",
   "execution_count": 12,
   "metadata": {},
   "outputs": [],
   "source": [
    "!openssl rand -hex 16 > clave.txt"
   ]
  },
  {
   "cell_type": "code",
   "execution_count": 13,
   "metadata": {},
   "outputs": [],
   "source": [
    "with open('clave.txt', 'r') as file:\n",
    "    key = file.read().strip()"
   ]
  },
  {
   "cell_type": "code",
   "execution_count": 14,
   "metadata": {},
   "outputs": [],
   "source": [
    "!openssl enc -aes-128-ecb -nosalt -in tux_bw_content.ppm -out tux_bw_content_encrypt.ppm -K {key}"
   ]
  },
  {
   "cell_type": "code",
   "execution_count": 15,
   "metadata": {},
   "outputs": [
    {
     "name": "stderr",
     "output_type": "stream",
     "text": [
      "convert: improper image header `tux_bw_content_encrypt.ppm' @ error/pnm.c/ReadPNMImage/343.\n",
      "convert: no images defined `resultado_final.jpg' @ error/convert.c/ConvertImageCommand/3362.\n"
     ]
    }
   ],
   "source": [
    "!magick convert tux_bw_content_encrypt.ppm resultado_final.jpg"
   ]
  },
  {
   "cell_type": "markdown",
   "metadata": {},
   "source": [
    "Repetimos con CBC"
   ]
  },
  {
   "cell_type": "code",
   "execution_count": 16,
   "metadata": {},
   "outputs": [],
   "source": [
    "!openssl rand -hex 16 > clave_cbc.txt"
   ]
  },
  {
   "cell_type": "code",
   "execution_count": 17,
   "metadata": {},
   "outputs": [],
   "source": [
    "!openssl rand -hex 16 > iv.txt"
   ]
  },
  {
   "cell_type": "code",
   "execution_count": 18,
   "metadata": {},
   "outputs": [
    {
     "name": "stdout",
     "output_type": "stream",
     "text": [
      "Clave (length 32): b76fd23a41e175209025d8be5cf242b5\n",
      "IV (length 32): 50810778630075c43f8a12fd402c22a1\n"
     ]
    }
   ],
   "source": [
    "# Leer y mostrar el contenido de clave_cbc.txt y iv.txt\n",
    "with open('clave_cbc.txt', 'r') as file:\n",
    "    key = file.read().strip()\n",
    "print(f\"Clave (length {len(key)}): {key}\")\n",
    "\n",
    "with open('iv.txt', 'r') as file:\n",
    "    iv_cbc = file.read().strip()\n",
    "print(f\"IV (length {len(iv_cbc)}): {iv_cbc}\")\n"
   ]
  },
  {
   "cell_type": "code",
   "execution_count": 19,
   "metadata": {},
   "outputs": [],
   "source": [
    "!openssl enc -aes-128-cbc -nosalt -in tux_bw_content.ppm -out tux_bw_encrypted_cbc.ppm -K {key} -iv {iv_cbc}"
   ]
  },
  {
   "cell_type": "code",
   "execution_count": 21,
   "metadata": {},
   "outputs": [],
   "source": [
    "!magick convert tux_bw_encrypted_cbc.ppm resultado_final_2.jpg"
   ]
  }
 ],
 "metadata": {
  "kernelspec": {
   "display_name": "Python 3",
   "language": "python",
   "name": "python3"
  },
  "language_info": {
   "codemirror_mode": {
    "name": "ipython",
    "version": 3
   },
   "file_extension": ".py",
   "mimetype": "text/x-python",
   "name": "python",
   "nbconvert_exporter": "python",
   "pygments_lexer": "ipython3",
   "version": "3.10.5"
  }
 },
 "nbformat": 4,
 "nbformat_minor": 2
}
