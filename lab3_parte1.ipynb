{
 "cells": [
  {
   "cell_type": "markdown",
   "metadata": {},
   "source": [
    "# Laboratorio no. 3 Cifrado de Información - parte 1\n",
    "Marco Jurado 20308"
   ]
  },
  {
   "cell_type": "code",
   "execution_count": 36,
   "metadata": {},
   "outputs": [],
   "source": [
    "from Crypto.Cipher import DES, DES3, AES\n",
    "from Crypto.Random import get_random_bytes\n",
    "from Crypto.Util.Padding import pad, unpad\n",
    "from PIL import Image\n",
    "import numpy as np\n",
    "import math\n",
    "import os"
   ]
  },
  {
   "cell_type": "markdown",
   "metadata": {},
   "source": [
    "## Problema 1"
   ]
  },
  {
   "cell_type": "markdown",
   "metadata": {},
   "source": [
    "AES con CBC"
   ]
  },
  {
   "cell_type": "code",
   "execution_count": 37,
   "metadata": {},
   "outputs": [],
   "source": [
    "def aes_cbc_encrypt(x, y):\n",
    "    cipher = AES.new(y, AES.MODE_CBC)\n",
    "    ct_bytes = cipher.encrypt(pad(x, AES.block_size))\n",
    "    iv = cipher.iv\n",
    "    return iv, ct_bytes\n",
    "\n",
    "def aes_cbc_decrypt(iv, ct_bytes, y):\n",
    "    cipher = AES.new(y, AES.MODE_CBC, iv)\n",
    "    pt = unpad(cipher.decrypt(ct_bytes), AES.block_size)\n",
    "    return pt"
   ]
  },
  {
   "cell_type": "markdown",
   "metadata": {},
   "source": [
    "AES con ECB"
   ]
  },
  {
   "cell_type": "code",
   "execution_count": 38,
   "metadata": {},
   "outputs": [],
   "source": [
    "def aes_ecb_encrypt(x, y):\n",
    "    cipher = AES.new(y, AES.MODE_ECB)\n",
    "    ct_bytes = cipher.encrypt(pad(x, AES.block_size))\n",
    "    return ct_bytes\n",
    "\n",
    "def aes_ecb_decrypt(ct_bytes, y):\n",
    "    cipher = AES.new(y, AES.MODE_ECB)\n",
    "    pt = unpad(cipher.decrypt(ct_bytes), AES.block_size)\n",
    "    return pt"
   ]
  },
  {
   "cell_type": "markdown",
   "metadata": {},
   "source": [
    "Pipeline para cifrado y descifrado AES con ECB y CBC"
   ]
  },
  {
   "cell_type": "code",
   "execution_count": 39,
   "metadata": {},
   "outputs": [],
   "source": [
    "def desencriptarImagen_AES(encrypted_image_path, key_text, outputpath, mode=AES.MODE_ECB, iv_hex='00000000000000000000000000000000'):\n",
    "    with open(encrypted_image_path, \"rb\") as encrypted_file:\n",
    "            encrypted_data = encrypted_file.read()\n",
    "\n",
    "    if mode == AES.MODE_ECB:\n",
    "        cipher = AES.new(bytes.fromhex(key_text), AES.MODE_ECB)\n",
    "        decrypted_data = cipher.decrypt(encrypted_data)\n",
    "\n",
    "        decrypted_image_path = outputpath\n",
    "        with open(decrypted_image_path, \"wb\") as decrypted_file:\n",
    "            decrypted_file.write(decrypted_data)\n",
    "\n",
    "    else:\n",
    "        cipher = AES.new(bytes.fromhex(key_text), AES.MODE_CBC, bytes.fromhex(iv_hex))\n",
    "        decrypted_data = cipher.decrypt(encrypted_data)\n",
    "\n",
    "        try:\n",
    "            decrypted_data = unpad(decrypted_data, AES.block_size)\n",
    "        except ValueError:\n",
    "            pass\n",
    "\n",
    "        decrypted_image_path = outputpath\n",
    "        with open(decrypted_image_path, \"wb\") as decrypted_file:\n",
    "            decrypted_file.write(decrypted_data)\n",
    "\n",
    "    return decrypted_image_path"
   ]
  },
  {
   "cell_type": "markdown",
   "metadata": {},
   "source": [
    "Descifrando ambas imagenes con ECB y CBC"
   ]
  },
  {
   "cell_type": "code",
   "execution_count": 40,
   "metadata": {},
   "outputs": [
    {
     "name": "stdout",
     "output_type": "stream",
     "text": [
      "La carpeta results_parte1 ya existe.\n"
     ]
    }
   ],
   "source": [
    "key_text = '02e9bf37e279e73aa93a3b0fc3bfed8f'\n",
    "encrypted_image_path = \"ayno_encrypted_image.jpeg\"\n",
    "carpeta = 'results_parte1'\n",
    "\n",
    "if not os.path.exists(carpeta):\n",
    "    os.makedirs(carpeta)\n",
    "    print(f\"La carpeta {carpeta} fue creada.\")\n",
    "else:\n",
    "    print(f\"La carpeta {carpeta} ya existe.\")"
   ]
  },
  {
   "cell_type": "code",
   "execution_count": 41,
   "metadata": {},
   "outputs": [
    {
     "name": "stdout",
     "output_type": "stream",
     "text": [
      "Imagen descifrada usando ECB guardada en: results_parte1/resultado_ECB_ayno.jpeg\n"
     ]
    }
   ],
   "source": [
    "decrypted_image_path_ecb = desencriptarImagen_AES(encrypted_image_path, key_text, 'results_parte1/resultado_ECB_ayno.jpeg')\n",
    "print(f\"Imagen descifrada usando ECB guardada en: {decrypted_image_path_ecb}\")"
   ]
  },
  {
   "cell_type": "code",
   "execution_count": 42,
   "metadata": {},
   "outputs": [
    {
     "name": "stdout",
     "output_type": "stream",
     "text": [
      "Imagen descifrada usando CBC guardada en: results_parte1/resultado_CBC_ayno.jpeg\n"
     ]
    }
   ],
   "source": [
    "decrypted_image_path_cbc = desencriptarImagen_AES(encrypted_image_path, key_text, 'results_parte1/resultado_CBC_ayno.jpeg', mode=AES.MODE_CBC)\n",
    "print(f\"Imagen descifrada usando CBC guardada en: {decrypted_image_path_cbc}\")"
   ]
  },
  {
   "cell_type": "code",
   "execution_count": 43,
   "metadata": {},
   "outputs": [],
   "source": [
    "key_text = '406845db899854cc23484d6f3f28f3f7'\n",
    "encrypted_image_path = \"mr-increible_encrypted_image.jpeg\""
   ]
  },
  {
   "cell_type": "code",
   "execution_count": 44,
   "metadata": {},
   "outputs": [
    {
     "name": "stdout",
     "output_type": "stream",
     "text": [
      "Imagen descifrada usando ECB guardada en: results_parte1/resultado_ECB_increible.jpeg\n"
     ]
    }
   ],
   "source": [
    "decrypted_image_path_ecb = desencriptarImagen_AES(encrypted_image_path, key_text, 'results_parte1/resultado_ECB_increible.jpeg')\n",
    "print(f\"Imagen descifrada usando ECB guardada en: {decrypted_image_path_ecb}\")"
   ]
  },
  {
   "cell_type": "code",
   "execution_count": 45,
   "metadata": {},
   "outputs": [
    {
     "name": "stdout",
     "output_type": "stream",
     "text": [
      "Imagen descifrada usando CBC guardada en: results_parte1/resultado_CBC_increible.jpeg\n"
     ]
    }
   ],
   "source": [
    "decrypted_image_path_cbc = desencriptarImagen_AES(encrypted_image_path, key_text, 'results_parte1/resultado_CBC_increible.jpeg',  mode=AES.MODE_CBC)\n",
    "print(f\"Imagen descifrada usando CBC guardada en: {decrypted_image_path_cbc}\")"
   ]
  },
  {
   "cell_type": "markdown",
   "metadata": {},
   "source": [
    "## Informe de hallazgos"
   ]
  },
  {
   "cell_type": "markdown",
   "metadata": {},
   "source": [
    "En el proceso de descifrar imágenes cifradas utilizando el estándar AES (Advanced Encryption Standard) en los modos ECB y CBC, habian retos distintos en la eficacia de estos métodos de cifrado. La exitosa descodificación de la imagen de Mr. Increíble mediante el modo ECB demuestra que, cuando se aplica correctamente, AES puede ser efectivo para recuperar datos cifrados. Sin embargo, la naturaleza del modo ECB, que procesa cada bloque de datos de manera independiente, puede no ser siempre la opción más segura, especialmente para datos con patrones estructurales como imágenes. Por otro lado, el fracaso en descifrar la imagen \"Ay No\" en ambos modos, acompañado de problemas relacionados con el tamaño del padding y la corrupción de datos, sugiere desafíos técnicos como un manejo incorrecto del padding o el uso de un vector de inicialización inadecuado en el caso de CBC, lo que resalta la importancia de una implementación precisa y cuidadosa del algoritmo y sus componentes.\n",
    "\n",
    "Este ejercicio revela que la efectividad de AES-128 depende significativamente de la correcta aplicación de sus parámetros, incluyendo la clave de cifrado, el modo de operación, y en el caso de CBC, el IV. El éxito parcial, con la descodificación de una imagen pero no de la otra, demuestra la complejidad del cifrado y descifrado de datos. Demuestra que, aunque AES es un estándar de cifrado robusto y ampliamente utilizado, su seguridad y éxito en la recuperación de datos cifrados puede verse comprometida por detalles técnicos como el manejo del padding y la selección del modo de operación, subrayando la necesidad de una implementación cuidadosa y conocimientos técnicos precisos para asegurar la integridad y confidencialidad de los datos."
   ]
  },
  {
   "cell_type": "markdown",
   "metadata": {},
   "source": [
    "#### ¿Fue posible desencriptar las dos imagenes?"
   ]
  },
  {
   "cell_type": "markdown",
   "metadata": {},
   "source": [
    "No, no fue posible descifrar ambas imágenes correctamente. Aunque logramos descifrar con éxito la imagen de Mr. Increíble utilizando el modo ECB, no de pudoc con la otra imagen, \"Ay No\", en ambos modos ECB y CBC. Los problemas encontrados, como el tamaño del padding incorrecto y la corrupción de datos, impidieron una recuperación exitosa de la segunda imagen."
   ]
  }
 ],
 "metadata": {
  "kernelspec": {
   "display_name": "Python 3",
   "language": "python",
   "name": "python3"
  },
  "language_info": {
   "codemirror_mode": {
    "name": "ipython",
    "version": 3
   },
   "file_extension": ".py",
   "mimetype": "text/x-python",
   "name": "python",
   "nbconvert_exporter": "python",
   "pygments_lexer": "ipython3",
   "version": "3.10.5"
  }
 },
 "nbformat": 4,
 "nbformat_minor": 2
}
